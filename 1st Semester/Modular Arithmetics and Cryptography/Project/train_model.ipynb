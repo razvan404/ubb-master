{
 "cells": [
  {
   "cell_type": "markdown",
   "source": [
    "# Convolutional Net for MNIST"
   ],
   "metadata": {
    "collapsed": false
   },
   "id": "5e1b4f020536522f"
  },
  {
   "cell_type": "code",
   "execution_count": 1,
   "outputs": [],
   "source": [
    "%load_ext autoreload\n",
    "%autoreload 2"
   ],
   "metadata": {
    "collapsed": false,
    "ExecuteTime": {
     "end_time": "2025-01-20T21:19:36.679057Z",
     "start_time": "2025-01-20T21:19:36.655121Z"
    }
   },
   "id": "6b44b662d08e2e07"
  },
  {
   "cell_type": "code",
   "execution_count": 2,
   "id": "initial_id",
   "metadata": {
    "collapsed": true,
    "ExecuteTime": {
     "end_time": "2025-01-20T21:19:37.987531Z",
     "start_time": "2025-01-20T21:19:36.666873Z"
    }
   },
   "outputs": [
    {
     "data": {
      "text/plain": "<torch._C.Generator at 0x104fcf790>"
     },
     "execution_count": 2,
     "metadata": {},
     "output_type": "execute_result"
    }
   ],
   "source": [
    "from collections import Counter\n",
    "\n",
    "import tqdm\n",
    "import torch\n",
    "import torch.nn as nn\n",
    "import torch.optim as optim\n",
    "import matplotlib.pyplot as plt\n",
    "from torchvision import datasets, transforms\n",
    "\n",
    "from src.classifier import MnistClassifier\n",
    "\n",
    "torch.manual_seed(42)"
   ]
  },
  {
   "cell_type": "markdown",
   "source": [
    "## Dataset setup"
   ],
   "metadata": {
    "collapsed": false
   },
   "id": "8c61896b426300de"
  },
  {
   "cell_type": "code",
   "execution_count": 3,
   "outputs": [
    {
     "name": "stdout",
     "output_type": "stream",
     "text": [
      "Dataset size: 30000\n",
      "Input image shape: torch.Size([1, 28, 28])\n"
     ]
    }
   ],
   "source": [
    "dataset = datasets.MNIST(root='./datasets', train=True, transform=transforms.ToTensor(), download=True)\n",
    "dataset = [elem for idx, elem in enumerate(dataset) if idx < 30000]\n",
    "print(f\"Dataset size: {len(dataset)}\")\n",
    "print(f\"Input image shape: {dataset[0][0].shape}\")"
   ],
   "metadata": {
    "collapsed": false,
    "ExecuteTime": {
     "end_time": "2025-01-20T21:19:39.055146Z",
     "start_time": "2025-01-20T21:19:37.987983Z"
    }
   },
   "id": "964b952ab87d699c"
  },
  {
   "cell_type": "code",
   "execution_count": 4,
   "outputs": [
    {
     "data": {
      "text/plain": "<Figure size 640x480 with 3 Axes>",
      "image/png": "[encoded data removed]"
     },
     "metadata": {},
     "output_type": "display_data"
    }
   ],
   "source": [
    "for i in range(3):\n",
    "    plt.subplot(1, 3, i + 1)\n",
    "    plt.imshow(dataset[i][0].numpy().squeeze(), cmap=\"grey\")\n",
    "    plt.title(f\"Digit {dataset[i][1]}\")\n",
    "    plt.axis(\"off\")"
   ],
   "metadata": {
    "collapsed": false,
    "ExecuteTime": {
     "end_time": "2025-01-20T21:19:39.122292Z",
     "start_time": "2025-01-20T21:19:39.055430Z"
    }
   },
   "id": "c355f28536674d83"
  },
  {
   "cell_type": "code",
   "execution_count": 5,
   "outputs": [
    {
     "data": {
      "text/plain": "<Figure size 640x480 with 1 Axes>",
      "image/png": "[encoded data removed]"
     },
     "metadata": {},
     "output_type": "display_data"
    }
   ],
   "source": [
    "labels = [label for _, label in dataset]\n",
    "label_counts = Counter(labels)\n",
    "\n",
    "plt.bar(label_counts.keys(), label_counts.values())\n",
    "plt.title(\"Label Distribution in the MNIST Subset\")\n",
    "plt.xlabel(\"Labels\")\n",
    "plt.ylabel(\"Frequency\")\n",
    "plt.xticks(range(10))\n",
    "plt.show()"
   ],
   "metadata": {
    "collapsed": false,
    "ExecuteTime": {
     "end_time": "2025-01-20T21:19:39.173023Z",
     "start_time": "2025-01-20T21:19:39.119710Z"
    }
   },
   "id": "672f122650ce2eec"
  },
  {
   "cell_type": "markdown",
   "source": [
    "## Train model"
   ],
   "metadata": {
    "collapsed": false
   },
   "id": "2a2a26f42ce2010e"
  },
  {
   "cell_type": "code",
   "execution_count": 6,
   "outputs": [
    {
     "name": "stdout",
     "output_type": "stream",
     "text": [
      "Train dataset size: 22500\n",
      "Validation dataset size: 7500\n"
     ]
    }
   ],
   "source": [
    "train_split_idx = len(dataset) * 3 // 4\n",
    "train_ds, valid_ds = torch.utils.data.random_split(dataset, [train_split_idx, len(dataset) - train_split_idx])\n",
    "print(f\"Train dataset size: {len(train_ds)}\")\n",
    "print(f\"Validation dataset size: {len(valid_ds)}\")"
   ],
   "metadata": {
    "collapsed": false,
    "ExecuteTime": {
     "end_time": "2025-01-20T21:19:39.188006Z",
     "start_time": "2025-01-20T21:19:39.172111Z"
    }
   },
   "id": "93a93c5aa13a68ac"
  },
  {
   "cell_type": "code",
   "execution_count": 7,
   "outputs": [
    {
     "name": "stdout",
     "output_type": "stream",
     "text": [
      "Train dataloader size: 11\n",
      "Validation dataloader size: 4\n"
     ]
    }
   ],
   "source": [
    "train_dl = torch.utils.data.DataLoader(train_ds, batch_size=2048, shuffle=True)\n",
    "valid_dl = torch.utils.data.DataLoader(valid_ds, batch_size=2048, shuffle=False)\n",
    "print(f\"Train dataloader size: {len(train_dl)}\")\n",
    "print(f\"Validation dataloader size: {len(valid_dl)}\")"
   ],
   "metadata": {
    "collapsed": false,
    "ExecuteTime": {
     "end_time": "2025-01-20T21:19:39.201621Z",
     "start_time": "2025-01-20T21:19:39.185899Z"
    }
   },
   "id": "1a13cb69d3663414"
  },
  {
   "cell_type": "code",
   "execution_count": 8,
   "outputs": [
    {
     "name": "stderr",
     "output_type": "stream",
     "text": [
      "Train epoch 1: 100%|██████████| 11/11 [00:00<00:00, 14.59it/s]\n",
      "Validation epoch 1: 100%|██████████| 4/4 [00:00<00:00, 26.03it/s]\n"
     ]
    },
    {
     "name": "stdout",
     "output_type": "stream",
     "text": [
      "Epoch 1\n",
      "train_loss = 2.3029, train_accuracy = 0.10\n",
      "valid_loss = 2.2964, valid_accuracy = 0.11\n"
     ]
    },
    {
     "name": "stderr",
     "output_type": "stream",
     "text": [
      "Train epoch 2: 100%|██████████| 11/11 [00:00<00:00, 15.37it/s]\n",
      "Validation epoch 2: 100%|██████████| 4/4 [00:00<00:00, 27.30it/s]\n"
     ]
    },
    {
     "name": "stdout",
     "output_type": "stream",
     "text": [
      "Epoch 2\n",
      "train_loss = 2.2897, train_accuracy = 0.14\n",
      "valid_loss = 2.2771, valid_accuracy = 0.23\n"
     ]
    },
    {
     "name": "stderr",
     "output_type": "stream",
     "text": [
      "Train epoch 3: 100%|██████████| 11/11 [00:00<00:00, 16.50it/s]\n",
      "Validation epoch 3: 100%|██████████| 4/4 [00:00<00:00, 27.41it/s]\n"
     ]
    },
    {
     "name": "stdout",
     "output_type": "stream",
     "text": [
      "Epoch 3\n",
      "train_loss = 2.2619, train_accuracy = 0.33\n",
      "valid_loss = 2.2353, valid_accuracy = 0.43\n"
     ]
    },
    {
     "name": "stderr",
     "output_type": "stream",
     "text": [
      "Train epoch 4: 100%|██████████| 11/11 [00:00<00:00, 16.19it/s]\n",
      "Validation epoch 4: 100%|██████████| 4/4 [00:00<00:00, 27.56it/s]\n"
     ]
    },
    {
     "name": "stdout",
     "output_type": "stream",
     "text": [
      "Epoch 4\n",
      "train_loss = 2.2036, train_accuracy = 0.47\n",
      "valid_loss = 2.1514, valid_accuracy = 0.52\n"
     ]
    },
    {
     "name": "stderr",
     "output_type": "stream",
     "text": [
      "Train epoch 5: 100%|██████████| 11/11 [00:00<00:00, 16.20it/s]\n",
      "Validation epoch 5: 100%|██████████| 4/4 [00:00<00:00, 27.59it/s]\n"
     ]
    },
    {
     "name": "stdout",
     "output_type": "stream",
     "text": [
      "Epoch 5\n",
      "train_loss = 2.0939, train_accuracy = 0.52\n",
      "valid_loss = 2.0057, valid_accuracy = 0.55\n"
     ]
    },
    {
     "name": "stderr",
     "output_type": "stream",
     "text": [
      "Train epoch 6: 100%|██████████| 11/11 [00:00<00:00, 16.31it/s]\n",
      "Validation epoch 6: 100%|██████████| 4/4 [00:00<00:00, 26.66it/s]\n"
     ]
    },
    {
     "name": "stdout",
     "output_type": "stream",
     "text": [
      "Epoch 6\n",
      "train_loss = 1.9190, train_accuracy = 0.56\n",
      "valid_loss = 1.7931, valid_accuracy = 0.58\n"
     ]
    },
    {
     "name": "stderr",
     "output_type": "stream",
     "text": [
      "Train epoch 7: 100%|██████████| 11/11 [00:01<00:00, 10.81it/s]\n",
      "Validation epoch 7: 100%|██████████| 4/4 [00:00<00:00, 22.19it/s]\n"
     ]
    },
    {
     "name": "stdout",
     "output_type": "stream",
     "text": [
      "Epoch 7\n",
      "train_loss = 1.6806, train_accuracy = 0.61\n",
      "valid_loss = 1.5317, valid_accuracy = 0.66\n"
     ]
    },
    {
     "name": "stderr",
     "output_type": "stream",
     "text": [
      "Train epoch 8: 100%|██████████| 11/11 [00:00<00:00, 14.53it/s]\n",
      "Validation epoch 8: 100%|██████████| 4/4 [00:00<00:00, 27.33it/s]\n"
     ]
    },
    {
     "name": "stdout",
     "output_type": "stream",
     "text": [
      "Epoch 8\n",
      "train_loss = 1.4073, train_accuracy = 0.71\n",
      "valid_loss = 1.2608, valid_accuracy = 0.76\n"
     ]
    },
    {
     "name": "stderr",
     "output_type": "stream",
     "text": [
      "Train epoch 9: 100%|██████████| 11/11 [00:00<00:00, 17.04it/s]\n",
      "Validation epoch 9: 100%|██████████| 4/4 [00:00<00:00, 27.33it/s]\n"
     ]
    },
    {
     "name": "stdout",
     "output_type": "stream",
     "text": [
      "Epoch 9\n",
      "train_loss = 1.1474, train_accuracy = 0.80\n",
      "valid_loss = 1.0279, valid_accuracy = 0.81\n"
     ]
    },
    {
     "name": "stderr",
     "output_type": "stream",
     "text": [
      "Train epoch 10: 100%|██████████| 11/11 [00:00<00:00, 16.94it/s]\n",
      "Validation epoch 10: 100%|██████████| 4/4 [00:00<00:00, 27.86it/s]\n"
     ]
    },
    {
     "name": "stdout",
     "output_type": "stream",
     "text": [
      "Epoch 10\n",
      "train_loss = 0.9375, train_accuracy = 0.83\n",
      "valid_loss = 0.8580, valid_accuracy = 0.83\n"
     ]
    },
    {
     "name": "stderr",
     "output_type": "stream",
     "text": [
      "Train epoch 11: 100%|██████████| 11/11 [00:00<00:00, 17.08it/s]\n",
      "Validation epoch 11: 100%|██████████| 4/4 [00:00<00:00, 28.37it/s]\n"
     ]
    },
    {
     "name": "stdout",
     "output_type": "stream",
     "text": [
      "Epoch 11\n",
      "train_loss = 0.7869, train_accuracy = 0.85\n",
      "valid_loss = 0.7446, valid_accuracy = 0.85\n"
     ]
    },
    {
     "name": "stderr",
     "output_type": "stream",
     "text": [
      "Train epoch 12: 100%|██████████| 11/11 [00:00<00:00, 14.09it/s]\n",
      "Validation epoch 12: 100%|██████████| 4/4 [00:00<00:00, 22.40it/s]\n"
     ]
    },
    {
     "name": "stdout",
     "output_type": "stream",
     "text": [
      "Epoch 12\n",
      "train_loss = 0.6863, train_accuracy = 0.86\n",
      "valid_loss = 0.6730, valid_accuracy = 0.86\n"
     ]
    },
    {
     "name": "stderr",
     "output_type": "stream",
     "text": [
      "Train epoch 13: 100%|██████████| 11/11 [00:00<00:00, 13.53it/s]\n",
      "Validation epoch 13: 100%|██████████| 4/4 [00:00<00:00, 25.51it/s]\n"
     ]
    },
    {
     "name": "stdout",
     "output_type": "stream",
     "text": [
      "Epoch 13\n",
      "train_loss = 0.6186, train_accuracy = 0.88\n",
      "valid_loss = 0.6215, valid_accuracy = 0.87\n"
     ]
    },
    {
     "name": "stderr",
     "output_type": "stream",
     "text": [
      "Train epoch 14: 100%|██████████| 11/11 [00:00<00:00, 14.47it/s]\n",
      "Validation epoch 14: 100%|██████████| 4/4 [00:00<00:00, 25.02it/s]\n"
     ]
    },
    {
     "name": "stdout",
     "output_type": "stream",
     "text": [
      "Epoch 14\n",
      "train_loss = 0.5700, train_accuracy = 0.88\n",
      "valid_loss = 0.5857, valid_accuracy = 0.88\n"
     ]
    },
    {
     "name": "stderr",
     "output_type": "stream",
     "text": [
      "Train epoch 15: 100%|██████████| 11/11 [00:00<00:00, 15.39it/s]\n",
      "Validation epoch 15: 100%|██████████| 4/4 [00:00<00:00, 27.10it/s]\n"
     ]
    },
    {
     "name": "stdout",
     "output_type": "stream",
     "text": [
      "Epoch 15\n",
      "train_loss = 0.5341, train_accuracy = 0.89\n",
      "valid_loss = 0.5586, valid_accuracy = 0.88\n"
     ]
    },
    {
     "name": "stderr",
     "output_type": "stream",
     "text": [
      "Train epoch 16: 100%|██████████| 11/11 [00:00<00:00, 14.80it/s]\n",
      "Validation epoch 16: 100%|██████████| 4/4 [00:00<00:00, 26.57it/s]\n"
     ]
    },
    {
     "name": "stdout",
     "output_type": "stream",
     "text": [
      "Epoch 16\n",
      "train_loss = 0.5058, train_accuracy = 0.90\n",
      "valid_loss = 0.5364, valid_accuracy = 0.89\n"
     ]
    },
    {
     "name": "stderr",
     "output_type": "stream",
     "text": [
      "Train epoch 17: 100%|██████████| 11/11 [00:00<00:00, 16.05it/s]\n",
      "Validation epoch 17: 100%|██████████| 4/4 [00:00<00:00, 27.74it/s]\n"
     ]
    },
    {
     "name": "stdout",
     "output_type": "stream",
     "text": [
      "Epoch 17\n",
      "train_loss = 0.4819, train_accuracy = 0.90\n",
      "valid_loss = 0.5154, valid_accuracy = 0.89\n"
     ]
    },
    {
     "name": "stderr",
     "output_type": "stream",
     "text": [
      "Train epoch 18: 100%|██████████| 11/11 [00:00<00:00, 14.61it/s]\n",
      "Validation epoch 18: 100%|██████████| 4/4 [00:00<00:00, 25.23it/s]\n"
     ]
    },
    {
     "name": "stdout",
     "output_type": "stream",
     "text": [
      "Epoch 18\n",
      "train_loss = 0.4630, train_accuracy = 0.90\n",
      "valid_loss = 0.5036, valid_accuracy = 0.89\n"
     ]
    },
    {
     "name": "stderr",
     "output_type": "stream",
     "text": [
      "Train epoch 19: 100%|██████████| 11/11 [00:00<00:00, 15.07it/s]\n",
      "Validation epoch 19: 100%|██████████| 4/4 [00:00<00:00, 27.07it/s]\n"
     ]
    },
    {
     "name": "stdout",
     "output_type": "stream",
     "text": [
      "Epoch 19\n",
      "train_loss = 0.4453, train_accuracy = 0.91\n",
      "valid_loss = 0.4856, valid_accuracy = 0.90\n"
     ]
    },
    {
     "name": "stderr",
     "output_type": "stream",
     "text": [
      "Train epoch 20: 100%|██████████| 11/11 [00:00<00:00, 15.09it/s]\n",
      "Validation epoch 20: 100%|██████████| 4/4 [00:00<00:00, 27.52it/s]\n"
     ]
    },
    {
     "name": "stdout",
     "output_type": "stream",
     "text": [
      "Epoch 20\n",
      "train_loss = 0.4297, train_accuracy = 0.91\n",
      "valid_loss = 0.4750, valid_accuracy = 0.90\n"
     ]
    },
    {
     "name": "stderr",
     "output_type": "stream",
     "text": [
      "Train epoch 21: 100%|██████████| 11/11 [00:00<00:00, 16.51it/s]\n",
      "Validation epoch 21: 100%|██████████| 4/4 [00:00<00:00, 25.75it/s]\n"
     ]
    },
    {
     "name": "stdout",
     "output_type": "stream",
     "text": [
      "Epoch 21\n",
      "train_loss = 0.4158, train_accuracy = 0.91\n",
      "valid_loss = 0.4611, valid_accuracy = 0.90\n"
     ]
    },
    {
     "name": "stderr",
     "output_type": "stream",
     "text": [
      "Train epoch 22: 100%|██████████| 11/11 [00:00<00:00, 14.91it/s]\n",
      "Validation epoch 22: 100%|██████████| 4/4 [00:00<00:00, 25.94it/s]\n"
     ]
    },
    {
     "name": "stdout",
     "output_type": "stream",
     "text": [
      "Epoch 22\n",
      "train_loss = 0.4032, train_accuracy = 0.91\n",
      "valid_loss = 0.4528, valid_accuracy = 0.90\n"
     ]
    },
    {
     "name": "stderr",
     "output_type": "stream",
     "text": [
      "Train epoch 23: 100%|██████████| 11/11 [00:00<00:00, 14.89it/s]\n",
      "Validation epoch 23: 100%|██████████| 4/4 [00:00<00:00, 27.74it/s]\n"
     ]
    },
    {
     "name": "stdout",
     "output_type": "stream",
     "text": [
      "Epoch 23\n",
      "train_loss = 0.3918, train_accuracy = 0.92\n",
      "valid_loss = 0.4405, valid_accuracy = 0.91\n"
     ]
    },
    {
     "name": "stderr",
     "output_type": "stream",
     "text": [
      "Train epoch 24: 100%|██████████| 11/11 [00:00<00:00, 15.91it/s]\n",
      "Validation epoch 24: 100%|██████████| 4/4 [00:00<00:00, 27.76it/s]\n"
     ]
    },
    {
     "name": "stdout",
     "output_type": "stream",
     "text": [
      "Epoch 24\n",
      "train_loss = 0.3813, train_accuracy = 0.92\n",
      "valid_loss = 0.4341, valid_accuracy = 0.91\n"
     ]
    },
    {
     "name": "stderr",
     "output_type": "stream",
     "text": [
      "Train epoch 25: 100%|██████████| 11/11 [00:00<00:00, 16.13it/s]\n",
      "Validation epoch 25: 100%|██████████| 4/4 [00:00<00:00, 27.73it/s]\n"
     ]
    },
    {
     "name": "stdout",
     "output_type": "stream",
     "text": [
      "Epoch 25\n",
      "train_loss = 0.3693, train_accuracy = 0.92\n",
      "valid_loss = 0.4229, valid_accuracy = 0.91\n"
     ]
    },
    {
     "name": "stderr",
     "output_type": "stream",
     "text": [
      "Train epoch 26: 100%|██████████| 11/11 [00:00<00:00, 16.97it/s]\n",
      "Validation epoch 26: 100%|██████████| 4/4 [00:00<00:00, 27.71it/s]\n"
     ]
    },
    {
     "name": "stdout",
     "output_type": "stream",
     "text": [
      "Epoch 26\n",
      "train_loss = 0.3605, train_accuracy = 0.92\n",
      "valid_loss = 0.4158, valid_accuracy = 0.91\n"
     ]
    },
    {
     "name": "stderr",
     "output_type": "stream",
     "text": [
      "Train epoch 27: 100%|██████████| 11/11 [00:00<00:00, 15.94it/s]\n",
      "Validation epoch 27: 100%|██████████| 4/4 [00:00<00:00, 27.28it/s]\n"
     ]
    },
    {
     "name": "stdout",
     "output_type": "stream",
     "text": [
      "Epoch 27\n",
      "train_loss = 0.3506, train_accuracy = 0.93\n",
      "valid_loss = 0.4086, valid_accuracy = 0.92\n"
     ]
    },
    {
     "name": "stderr",
     "output_type": "stream",
     "text": [
      "Train epoch 28: 100%|██████████| 11/11 [00:00<00:00, 16.18it/s]\n",
      "Validation epoch 28: 100%|██████████| 4/4 [00:00<00:00, 27.15it/s]\n"
     ]
    },
    {
     "name": "stdout",
     "output_type": "stream",
     "text": [
      "Epoch 28\n",
      "train_loss = 0.3413, train_accuracy = 0.93\n",
      "valid_loss = 0.3999, valid_accuracy = 0.92\n"
     ]
    },
    {
     "name": "stderr",
     "output_type": "stream",
     "text": [
      "Train epoch 29: 100%|██████████| 11/11 [00:00<00:00, 15.17it/s]\n",
      "Validation epoch 29: 100%|██████████| 4/4 [00:00<00:00, 27.34it/s]\n"
     ]
    },
    {
     "name": "stdout",
     "output_type": "stream",
     "text": [
      "Epoch 29\n",
      "train_loss = 0.3323, train_accuracy = 0.93\n",
      "valid_loss = 0.3948, valid_accuracy = 0.92\n"
     ]
    },
    {
     "name": "stderr",
     "output_type": "stream",
     "text": [
      "Train epoch 30: 100%|██████████| 11/11 [00:00<00:00, 16.38it/s]\n",
      "Validation epoch 30: 100%|██████████| 4/4 [00:00<00:00, 27.68it/s]\n"
     ]
    },
    {
     "name": "stdout",
     "output_type": "stream",
     "text": [
      "Epoch 30\n",
      "train_loss = 0.3256, train_accuracy = 0.93\n",
      "valid_loss = 0.3895, valid_accuracy = 0.92\n"
     ]
    },
    {
     "name": "stderr",
     "output_type": "stream",
     "text": [
      "Train epoch 31: 100%|██████████| 11/11 [00:00<00:00, 16.47it/s]\n",
      "Validation epoch 31: 100%|██████████| 4/4 [00:00<00:00, 27.66it/s]\n"
     ]
    },
    {
     "name": "stdout",
     "output_type": "stream",
     "text": [
      "Epoch 31\n",
      "train_loss = 0.3183, train_accuracy = 0.93\n",
      "valid_loss = 0.3801, valid_accuracy = 0.92\n"
     ]
    },
    {
     "name": "stderr",
     "output_type": "stream",
     "text": [
      "Train epoch 32: 100%|██████████| 11/11 [00:00<00:00, 16.64it/s]\n",
      "Validation epoch 32: 100%|██████████| 4/4 [00:00<00:00, 27.94it/s]\n"
     ]
    },
    {
     "name": "stdout",
     "output_type": "stream",
     "text": [
      "Epoch 32\n",
      "train_loss = 0.3098, train_accuracy = 0.93\n",
      "valid_loss = 0.3733, valid_accuracy = 0.92\n"
     ]
    },
    {
     "name": "stderr",
     "output_type": "stream",
     "text": [
      "Train epoch 33: 100%|██████████| 11/11 [00:00<00:00, 14.76it/s]\n",
      "Validation epoch 33: 100%|██████████| 4/4 [00:00<00:00, 27.92it/s]\n"
     ]
    },
    {
     "name": "stdout",
     "output_type": "stream",
     "text": [
      "Epoch 33\n",
      "train_loss = 0.3017, train_accuracy = 0.94\n",
      "valid_loss = 0.3666, valid_accuracy = 0.92\n"
     ]
    },
    {
     "name": "stderr",
     "output_type": "stream",
     "text": [
      "Train epoch 34: 100%|██████████| 11/11 [00:00<00:00, 15.85it/s]\n",
      "Validation epoch 34: 100%|██████████| 4/4 [00:00<00:00, 27.14it/s]\n"
     ]
    },
    {
     "name": "stdout",
     "output_type": "stream",
     "text": [
      "Epoch 34\n",
      "train_loss = 0.2950, train_accuracy = 0.94\n",
      "valid_loss = 0.3644, valid_accuracy = 0.92\n"
     ]
    },
    {
     "name": "stderr",
     "output_type": "stream",
     "text": [
      "Train epoch 35: 100%|██████████| 11/11 [00:00<00:00, 16.14it/s]\n",
      "Validation epoch 35: 100%|██████████| 4/4 [00:00<00:00, 27.90it/s]\n"
     ]
    },
    {
     "name": "stdout",
     "output_type": "stream",
     "text": [
      "Epoch 35\n",
      "train_loss = 0.2874, train_accuracy = 0.94\n",
      "valid_loss = 0.3565, valid_accuracy = 0.93\n"
     ]
    },
    {
     "name": "stderr",
     "output_type": "stream",
     "text": [
      "Train epoch 36: 100%|██████████| 11/11 [00:00<00:00, 16.80it/s]\n",
      "Validation epoch 36: 100%|██████████| 4/4 [00:00<00:00, 27.76it/s]\n"
     ]
    },
    {
     "name": "stdout",
     "output_type": "stream",
     "text": [
      "Epoch 36\n",
      "train_loss = 0.2822, train_accuracy = 0.94\n",
      "valid_loss = 0.3495, valid_accuracy = 0.93\n"
     ]
    },
    {
     "name": "stderr",
     "output_type": "stream",
     "text": [
      "Train epoch 37: 100%|██████████| 11/11 [00:00<00:00, 16.98it/s]\n",
      "Validation epoch 37: 100%|██████████| 4/4 [00:00<00:00, 27.49it/s]\n"
     ]
    },
    {
     "name": "stdout",
     "output_type": "stream",
     "text": [
      "Epoch 37\n",
      "train_loss = 0.2738, train_accuracy = 0.94\n",
      "valid_loss = 0.3435, valid_accuracy = 0.93\n"
     ]
    },
    {
     "name": "stderr",
     "output_type": "stream",
     "text": [
      "Train epoch 38: 100%|██████████| 11/11 [00:00<00:00, 15.38it/s]\n",
      "Validation epoch 38: 100%|██████████| 4/4 [00:00<00:00, 27.49it/s]\n"
     ]
    },
    {
     "name": "stdout",
     "output_type": "stream",
     "text": [
      "Epoch 38\n",
      "train_loss = 0.2671, train_accuracy = 0.94\n",
      "valid_loss = 0.3376, valid_accuracy = 0.93\n"
     ]
    },
    {
     "name": "stderr",
     "output_type": "stream",
     "text": [
      "Train epoch 39: 100%|██████████| 11/11 [00:00<00:00, 15.74it/s]\n",
      "Validation epoch 39: 100%|██████████| 4/4 [00:00<00:00, 27.40it/s]\n"
     ]
    },
    {
     "name": "stdout",
     "output_type": "stream",
     "text": [
      "Epoch 39\n",
      "train_loss = 0.2610, train_accuracy = 0.94\n",
      "valid_loss = 0.3362, valid_accuracy = 0.93\n"
     ]
    },
    {
     "name": "stderr",
     "output_type": "stream",
     "text": [
      "Train epoch 40: 100%|██████████| 11/11 [00:00<00:00, 16.20it/s]\n",
      "Validation epoch 40: 100%|██████████| 4/4 [00:00<00:00, 27.82it/s]\n"
     ]
    },
    {
     "name": "stdout",
     "output_type": "stream",
     "text": [
      "Epoch 40\n",
      "train_loss = 0.2553, train_accuracy = 0.94\n",
      "valid_loss = 0.3288, valid_accuracy = 0.93\n"
     ]
    },
    {
     "name": "stderr",
     "output_type": "stream",
     "text": [
      "Train epoch 41: 100%|██████████| 11/11 [00:00<00:00, 16.56it/s]\n",
      "Validation epoch 41: 100%|██████████| 4/4 [00:00<00:00, 28.10it/s]\n"
     ]
    },
    {
     "name": "stdout",
     "output_type": "stream",
     "text": [
      "Epoch 41\n",
      "train_loss = 0.2493, train_accuracy = 0.95\n",
      "valid_loss = 0.3230, valid_accuracy = 0.94\n"
     ]
    },
    {
     "name": "stderr",
     "output_type": "stream",
     "text": [
      "Train epoch 42: 100%|██████████| 11/11 [00:00<00:00, 16.75it/s]\n",
      "Validation epoch 42: 100%|██████████| 4/4 [00:00<00:00, 27.63it/s]\n"
     ]
    },
    {
     "name": "stdout",
     "output_type": "stream",
     "text": [
      "Epoch 42\n",
      "train_loss = 0.2436, train_accuracy = 0.95\n",
      "valid_loss = 0.3198, valid_accuracy = 0.94\n"
     ]
    },
    {
     "name": "stderr",
     "output_type": "stream",
     "text": [
      "Train epoch 43: 100%|██████████| 11/11 [00:00<00:00, 17.19it/s]\n",
      "Validation epoch 43: 100%|██████████| 4/4 [00:00<00:00, 27.90it/s]\n"
     ]
    },
    {
     "name": "stdout",
     "output_type": "stream",
     "text": [
      "Epoch 43\n",
      "train_loss = 0.2379, train_accuracy = 0.95\n",
      "valid_loss = 0.3149, valid_accuracy = 0.94\n"
     ]
    },
    {
     "name": "stderr",
     "output_type": "stream",
     "text": [
      "Train epoch 44: 100%|██████████| 11/11 [00:00<00:00, 17.32it/s]\n",
      "Validation epoch 44: 100%|██████████| 4/4 [00:00<00:00, 27.74it/s]\n"
     ]
    },
    {
     "name": "stdout",
     "output_type": "stream",
     "text": [
      "Epoch 44\n",
      "train_loss = 0.2330, train_accuracy = 0.95\n",
      "valid_loss = 0.3103, valid_accuracy = 0.94\n"
     ]
    },
    {
     "name": "stderr",
     "output_type": "stream",
     "text": [
      "Train epoch 45: 100%|██████████| 11/11 [00:00<00:00, 17.30it/s]\n",
      "Validation epoch 45: 100%|██████████| 4/4 [00:00<00:00, 27.55it/s]\n"
     ]
    },
    {
     "name": "stdout",
     "output_type": "stream",
     "text": [
      "Epoch 45\n",
      "train_loss = 0.2277, train_accuracy = 0.95\n",
      "valid_loss = 0.3068, valid_accuracy = 0.94\n"
     ]
    },
    {
     "name": "stderr",
     "output_type": "stream",
     "text": [
      "Train epoch 46: 100%|██████████| 11/11 [00:00<00:00, 17.24it/s]\n",
      "Validation epoch 46: 100%|██████████| 4/4 [00:00<00:00, 27.84it/s]\n"
     ]
    },
    {
     "name": "stdout",
     "output_type": "stream",
     "text": [
      "Epoch 46\n",
      "train_loss = 0.2226, train_accuracy = 0.95\n",
      "valid_loss = 0.3029, valid_accuracy = 0.94\n"
     ]
    },
    {
     "name": "stderr",
     "output_type": "stream",
     "text": [
      "Train epoch 47: 100%|██████████| 11/11 [00:00<00:00, 17.21it/s]\n",
      "Validation epoch 47: 100%|██████████| 4/4 [00:00<00:00, 27.64it/s]\n"
     ]
    },
    {
     "name": "stdout",
     "output_type": "stream",
     "text": [
      "Epoch 47\n",
      "train_loss = 0.2179, train_accuracy = 0.95\n",
      "valid_loss = 0.2975, valid_accuracy = 0.94\n"
     ]
    },
    {
     "name": "stderr",
     "output_type": "stream",
     "text": [
      "Train epoch 48: 100%|██████████| 11/11 [00:00<00:00, 16.16it/s]\n",
      "Validation epoch 48: 100%|██████████| 4/4 [00:00<00:00, 27.34it/s]\n"
     ]
    },
    {
     "name": "stdout",
     "output_type": "stream",
     "text": [
      "Epoch 48\n",
      "train_loss = 0.2127, train_accuracy = 0.95\n",
      "valid_loss = 0.2954, valid_accuracy = 0.94\n"
     ]
    },
    {
     "name": "stderr",
     "output_type": "stream",
     "text": [
      "Train epoch 49: 100%|██████████| 11/11 [00:00<00:00, 15.98it/s]\n",
      "Validation epoch 49: 100%|██████████| 4/4 [00:00<00:00, 27.28it/s]\n"
     ]
    },
    {
     "name": "stdout",
     "output_type": "stream",
     "text": [
      "Epoch 49\n",
      "train_loss = 0.2090, train_accuracy = 0.95\n",
      "valid_loss = 0.2920, valid_accuracy = 0.94\n"
     ]
    },
    {
     "name": "stderr",
     "output_type": "stream",
     "text": [
      "Train epoch 50: 100%|██████████| 11/11 [00:00<00:00, 15.59it/s]\n",
      "Validation epoch 50: 100%|██████████| 4/4 [00:00<00:00, 27.03it/s]\n"
     ]
    },
    {
     "name": "stdout",
     "output_type": "stream",
     "text": [
      "Epoch 50\n",
      "train_loss = 0.2042, train_accuracy = 0.95\n",
      "valid_loss = 0.2870, valid_accuracy = 0.94\n"
     ]
    },
    {
     "name": "stderr",
     "output_type": "stream",
     "text": [
      "Train epoch 51: 100%|██████████| 11/11 [00:00<00:00, 16.15it/s]\n",
      "Validation epoch 51: 100%|██████████| 4/4 [00:00<00:00, 27.56it/s]\n"
     ]
    },
    {
     "name": "stdout",
     "output_type": "stream",
     "text": [
      "Epoch 51\n",
      "train_loss = 0.2006, train_accuracy = 0.96\n",
      "valid_loss = 0.2871, valid_accuracy = 0.94\n"
     ]
    },
    {
     "name": "stderr",
     "output_type": "stream",
     "text": [
      "Train epoch 52: 100%|██████████| 11/11 [00:00<00:00, 16.18it/s]\n",
      "Validation epoch 52: 100%|██████████| 4/4 [00:00<00:00, 27.73it/s]\n"
     ]
    },
    {
     "name": "stdout",
     "output_type": "stream",
     "text": [
      "Epoch 52\n",
      "train_loss = 0.1973, train_accuracy = 0.96\n",
      "valid_loss = 0.2831, valid_accuracy = 0.95\n"
     ]
    },
    {
     "name": "stderr",
     "output_type": "stream",
     "text": [
      "Train epoch 53: 100%|██████████| 11/11 [00:00<00:00, 16.84it/s]\n",
      "Validation epoch 53: 100%|██████████| 4/4 [00:00<00:00, 27.36it/s]\n"
     ]
    },
    {
     "name": "stdout",
     "output_type": "stream",
     "text": [
      "Epoch 53\n",
      "train_loss = 0.1923, train_accuracy = 0.96\n",
      "valid_loss = 0.2817, valid_accuracy = 0.95\n"
     ]
    },
    {
     "name": "stderr",
     "output_type": "stream",
     "text": [
      "Train epoch 54: 100%|██████████| 11/11 [00:00<00:00, 16.72it/s]\n",
      "Validation epoch 54: 100%|██████████| 4/4 [00:00<00:00, 27.56it/s]\n"
     ]
    },
    {
     "name": "stdout",
     "output_type": "stream",
     "text": [
      "Epoch 54\n",
      "train_loss = 0.1878, train_accuracy = 0.96\n",
      "valid_loss = 0.2760, valid_accuracy = 0.95\n"
     ]
    },
    {
     "name": "stderr",
     "output_type": "stream",
     "text": [
      "Train epoch 55: 100%|██████████| 11/11 [00:00<00:00, 16.72it/s]\n",
      "Validation epoch 55: 100%|██████████| 4/4 [00:00<00:00, 19.37it/s]\n"
     ]
    },
    {
     "name": "stdout",
     "output_type": "stream",
     "text": [
      "Epoch 55\n",
      "train_loss = 0.1839, train_accuracy = 0.96\n",
      "valid_loss = 0.2739, valid_accuracy = 0.95\n"
     ]
    },
    {
     "name": "stderr",
     "output_type": "stream",
     "text": [
      "Train epoch 56: 100%|██████████| 11/11 [00:00<00:00, 16.28it/s]\n",
      "Validation epoch 56: 100%|██████████| 4/4 [00:00<00:00, 27.57it/s]\n"
     ]
    },
    {
     "name": "stdout",
     "output_type": "stream",
     "text": [
      "Epoch 56\n",
      "train_loss = 0.1808, train_accuracy = 0.96\n",
      "valid_loss = 0.2708, valid_accuracy = 0.95\n"
     ]
    },
    {
     "name": "stderr",
     "output_type": "stream",
     "text": [
      "Train epoch 57: 100%|██████████| 11/11 [00:00<00:00, 16.67it/s]\n",
      "Validation epoch 57: 100%|██████████| 4/4 [00:00<00:00, 27.63it/s]\n"
     ]
    },
    {
     "name": "stdout",
     "output_type": "stream",
     "text": [
      "Epoch 57\n",
      "train_loss = 0.1768, train_accuracy = 0.96\n",
      "valid_loss = 0.2689, valid_accuracy = 0.95\n"
     ]
    },
    {
     "name": "stderr",
     "output_type": "stream",
     "text": [
      "Train epoch 58: 100%|██████████| 11/11 [00:00<00:00, 15.87it/s]\n",
      "Validation epoch 58: 100%|██████████| 4/4 [00:00<00:00, 26.86it/s]\n"
     ]
    },
    {
     "name": "stdout",
     "output_type": "stream",
     "text": [
      "Epoch 58\n",
      "train_loss = 0.1739, train_accuracy = 0.96\n",
      "valid_loss = 0.2678, valid_accuracy = 0.95\n"
     ]
    },
    {
     "name": "stderr",
     "output_type": "stream",
     "text": [
      "Train epoch 59: 100%|██████████| 11/11 [00:00<00:00, 15.39it/s]\n",
      "Validation epoch 59: 100%|██████████| 4/4 [00:00<00:00, 27.24it/s]\n"
     ]
    },
    {
     "name": "stdout",
     "output_type": "stream",
     "text": [
      "Epoch 59\n",
      "train_loss = 0.1707, train_accuracy = 0.96\n",
      "valid_loss = 0.2628, valid_accuracy = 0.95\n"
     ]
    },
    {
     "name": "stderr",
     "output_type": "stream",
     "text": [
      "Train epoch 60: 100%|██████████| 11/11 [00:00<00:00, 16.72it/s]\n",
      "Validation epoch 60: 100%|██████████| 4/4 [00:00<00:00, 27.49it/s]\n"
     ]
    },
    {
     "name": "stdout",
     "output_type": "stream",
     "text": [
      "Epoch 60\n",
      "train_loss = 0.1678, train_accuracy = 0.96\n",
      "valid_loss = 0.2629, valid_accuracy = 0.95\n"
     ]
    },
    {
     "name": "stderr",
     "output_type": "stream",
     "text": [
      "Train epoch 61: 100%|██████████| 11/11 [00:00<00:00, 16.23it/s]\n",
      "Validation epoch 61: 100%|██████████| 4/4 [00:00<00:00, 27.49it/s]\n"
     ]
    },
    {
     "name": "stdout",
     "output_type": "stream",
     "text": [
      "Epoch 61\n",
      "train_loss = 0.1658, train_accuracy = 0.96\n",
      "valid_loss = 0.2583, valid_accuracy = 0.95\n"
     ]
    },
    {
     "name": "stderr",
     "output_type": "stream",
     "text": [
      "Train epoch 62: 100%|██████████| 11/11 [00:00<00:00, 15.45it/s]\n",
      "Validation epoch 62: 100%|██████████| 4/4 [00:00<00:00, 25.49it/s]\n"
     ]
    },
    {
     "name": "stdout",
     "output_type": "stream",
     "text": [
      "Epoch 62\n",
      "train_loss = 0.1612, train_accuracy = 0.97\n",
      "valid_loss = 0.2579, valid_accuracy = 0.95\n"
     ]
    },
    {
     "name": "stderr",
     "output_type": "stream",
     "text": [
      "Train epoch 63: 100%|██████████| 11/11 [00:00<00:00, 16.89it/s]\n",
      "Validation epoch 63: 100%|██████████| 4/4 [00:00<00:00, 24.27it/s]\n"
     ]
    },
    {
     "name": "stdout",
     "output_type": "stream",
     "text": [
      "Epoch 63\n",
      "train_loss = 0.1580, train_accuracy = 0.97\n",
      "valid_loss = 0.2558, valid_accuracy = 0.95\n"
     ]
    },
    {
     "name": "stderr",
     "output_type": "stream",
     "text": [
      "Train epoch 64: 100%|██████████| 11/11 [00:00<00:00, 13.16it/s]\n",
      "Validation epoch 64: 100%|██████████| 4/4 [00:00<00:00, 26.37it/s]\n"
     ]
    },
    {
     "name": "stdout",
     "output_type": "stream",
     "text": [
      "Epoch 64\n",
      "train_loss = 0.1557, train_accuracy = 0.97\n",
      "valid_loss = 0.2538, valid_accuracy = 0.95\n"
     ]
    },
    {
     "name": "stderr",
     "output_type": "stream",
     "text": [
      "Train epoch 65: 100%|██████████| 11/11 [00:00<00:00, 14.77it/s]\n",
      "Validation epoch 65: 100%|██████████| 4/4 [00:00<00:00, 25.64it/s]\n"
     ]
    },
    {
     "name": "stdout",
     "output_type": "stream",
     "text": [
      "Epoch 65\n",
      "train_loss = 0.1524, train_accuracy = 0.97\n",
      "valid_loss = 0.2515, valid_accuracy = 0.95\n"
     ]
    },
    {
     "name": "stderr",
     "output_type": "stream",
     "text": [
      "Train epoch 66: 100%|██████████| 11/11 [00:00<00:00, 16.15it/s]\n",
      "Validation epoch 66: 100%|██████████| 4/4 [00:00<00:00, 27.35it/s]\n"
     ]
    },
    {
     "name": "stdout",
     "output_type": "stream",
     "text": [
      "Epoch 66\n",
      "train_loss = 0.1497, train_accuracy = 0.97\n",
      "valid_loss = 0.2488, valid_accuracy = 0.95\n"
     ]
    },
    {
     "name": "stderr",
     "output_type": "stream",
     "text": [
      "Train epoch 67: 100%|██████████| 11/11 [00:00<00:00, 16.36it/s]\n",
      "Validation epoch 67: 100%|██████████| 4/4 [00:00<00:00, 27.26it/s]\n"
     ]
    },
    {
     "name": "stdout",
     "output_type": "stream",
     "text": [
      "Epoch 67\n",
      "train_loss = 0.1474, train_accuracy = 0.97\n",
      "valid_loss = 0.2488, valid_accuracy = 0.95\n"
     ]
    },
    {
     "name": "stderr",
     "output_type": "stream",
     "text": [
      "Train epoch 68: 100%|██████████| 11/11 [00:00<00:00, 16.52it/s]\n",
      "Validation epoch 68: 100%|██████████| 4/4 [00:00<00:00, 27.24it/s]\n"
     ]
    },
    {
     "name": "stdout",
     "output_type": "stream",
     "text": [
      "Epoch 68\n",
      "train_loss = 0.1454, train_accuracy = 0.97\n",
      "valid_loss = 0.2465, valid_accuracy = 0.95\n"
     ]
    },
    {
     "name": "stderr",
     "output_type": "stream",
     "text": [
      "Train epoch 69: 100%|██████████| 11/11 [00:00<00:00, 15.87it/s]\n",
      "Validation epoch 69: 100%|██████████| 4/4 [00:00<00:00, 27.59it/s]\n"
     ]
    },
    {
     "name": "stdout",
     "output_type": "stream",
     "text": [
      "Epoch 69\n",
      "train_loss = 0.1432, train_accuracy = 0.97\n",
      "valid_loss = 0.2442, valid_accuracy = 0.95\n"
     ]
    },
    {
     "name": "stderr",
     "output_type": "stream",
     "text": [
      "Train epoch 70: 100%|██████████| 11/11 [00:00<00:00, 15.59it/s]\n",
      "Validation epoch 70: 100%|██████████| 4/4 [00:00<00:00, 27.01it/s]\n"
     ]
    },
    {
     "name": "stdout",
     "output_type": "stream",
     "text": [
      "Epoch 70\n",
      "train_loss = 0.1400, train_accuracy = 0.97\n",
      "valid_loss = 0.2459, valid_accuracy = 0.95\n"
     ]
    },
    {
     "name": "stderr",
     "output_type": "stream",
     "text": [
      "Train epoch 71: 100%|██████████| 11/11 [00:00<00:00, 16.34it/s]\n",
      "Validation epoch 71: 100%|██████████| 4/4 [00:00<00:00, 25.96it/s]\n"
     ]
    },
    {
     "name": "stdout",
     "output_type": "stream",
     "text": [
      "Epoch 71\n",
      "train_loss = 0.1380, train_accuracy = 0.97\n",
      "valid_loss = 0.2420, valid_accuracy = 0.95\n"
     ]
    },
    {
     "name": "stderr",
     "output_type": "stream",
     "text": [
      "Train epoch 72: 100%|██████████| 11/11 [00:00<00:00, 16.55it/s]\n",
      "Validation epoch 72: 100%|██████████| 4/4 [00:00<00:00, 26.30it/s]\n"
     ]
    },
    {
     "name": "stdout",
     "output_type": "stream",
     "text": [
      "Epoch 72\n",
      "train_loss = 0.1367, train_accuracy = 0.97\n",
      "valid_loss = 0.2407, valid_accuracy = 0.95\n"
     ]
    },
    {
     "name": "stderr",
     "output_type": "stream",
     "text": [
      "Train epoch 73: 100%|██████████| 11/11 [00:00<00:00, 16.92it/s]\n",
      "Validation epoch 73: 100%|██████████| 4/4 [00:00<00:00, 27.30it/s]\n"
     ]
    },
    {
     "name": "stdout",
     "output_type": "stream",
     "text": [
      "Epoch 73\n",
      "train_loss = 0.1340, train_accuracy = 0.97\n",
      "valid_loss = 0.2412, valid_accuracy = 0.95\n"
     ]
    },
    {
     "name": "stderr",
     "output_type": "stream",
     "text": [
      "Train epoch 74: 100%|██████████| 11/11 [00:00<00:00, 16.75it/s]\n",
      "Validation epoch 74: 100%|██████████| 4/4 [00:00<00:00, 27.91it/s]\n"
     ]
    },
    {
     "name": "stdout",
     "output_type": "stream",
     "text": [
      "Epoch 74\n",
      "train_loss = 0.1308, train_accuracy = 0.97\n",
      "valid_loss = 0.2398, valid_accuracy = 0.95\n"
     ]
    },
    {
     "name": "stderr",
     "output_type": "stream",
     "text": [
      "Train epoch 75: 100%|██████████| 11/11 [00:00<00:00, 16.84it/s]\n",
      "Validation epoch 75: 100%|██████████| 4/4 [00:00<00:00, 27.83it/s]\n"
     ]
    },
    {
     "name": "stdout",
     "output_type": "stream",
     "text": [
      "Epoch 75\n",
      "train_loss = 0.1284, train_accuracy = 0.97\n",
      "valid_loss = 0.2374, valid_accuracy = 0.95\n"
     ]
    },
    {
     "name": "stderr",
     "output_type": "stream",
     "text": [
      "Train epoch 76: 100%|██████████| 11/11 [00:00<00:00, 15.88it/s]\n",
      "Validation epoch 76: 100%|██████████| 4/4 [00:00<00:00, 27.11it/s]\n"
     ]
    },
    {
     "name": "stdout",
     "output_type": "stream",
     "text": [
      "Epoch 76\n",
      "train_loss = 0.1264, train_accuracy = 0.97\n",
      "valid_loss = 0.2363, valid_accuracy = 0.95\n"
     ]
    },
    {
     "name": "stderr",
     "output_type": "stream",
     "text": [
      "Train epoch 77: 100%|██████████| 11/11 [00:00<00:00, 16.07it/s]\n",
      "Validation epoch 77: 100%|██████████| 4/4 [00:00<00:00, 27.37it/s]\n"
     ]
    },
    {
     "name": "stdout",
     "output_type": "stream",
     "text": [
      "Epoch 77\n",
      "train_loss = 0.1241, train_accuracy = 0.97\n",
      "valid_loss = 0.2365, valid_accuracy = 0.96\n"
     ]
    },
    {
     "name": "stderr",
     "output_type": "stream",
     "text": [
      "Train epoch 78: 100%|██████████| 11/11 [00:00<00:00, 16.06it/s]\n",
      "Validation epoch 78: 100%|██████████| 4/4 [00:00<00:00, 27.79it/s]\n"
     ]
    },
    {
     "name": "stdout",
     "output_type": "stream",
     "text": [
      "Epoch 78\n",
      "train_loss = 0.1224, train_accuracy = 0.97\n",
      "valid_loss = 0.2367, valid_accuracy = 0.95\n"
     ]
    },
    {
     "name": "stderr",
     "output_type": "stream",
     "text": [
      "Train epoch 79: 100%|██████████| 11/11 [00:00<00:00, 15.94it/s]\n",
      "Validation epoch 79: 100%|██████████| 4/4 [00:00<00:00, 27.23it/s]\n"
     ]
    },
    {
     "name": "stdout",
     "output_type": "stream",
     "text": [
      "Epoch 79\n",
      "train_loss = 0.1207, train_accuracy = 0.97\n",
      "valid_loss = 0.2328, valid_accuracy = 0.96\n"
     ]
    },
    {
     "name": "stderr",
     "output_type": "stream",
     "text": [
      "Train epoch 80: 100%|██████████| 11/11 [00:00<00:00, 16.62it/s]\n",
      "Validation epoch 80: 100%|██████████| 4/4 [00:00<00:00, 27.00it/s]\n"
     ]
    },
    {
     "name": "stdout",
     "output_type": "stream",
     "text": [
      "Epoch 80\n",
      "train_loss = 0.1181, train_accuracy = 0.97\n",
      "valid_loss = 0.2324, valid_accuracy = 0.96\n"
     ]
    },
    {
     "name": "stderr",
     "output_type": "stream",
     "text": [
      "Train epoch 81: 100%|██████████| 11/11 [00:00<00:00, 16.34it/s]\n",
      "Validation epoch 81: 100%|██████████| 4/4 [00:00<00:00, 27.80it/s]\n"
     ]
    },
    {
     "name": "stdout",
     "output_type": "stream",
     "text": [
      "Epoch 81\n",
      "train_loss = 0.1163, train_accuracy = 0.97\n",
      "valid_loss = 0.2342, valid_accuracy = 0.96\n"
     ]
    },
    {
     "name": "stderr",
     "output_type": "stream",
     "text": [
      "Train epoch 82: 100%|██████████| 11/11 [00:00<00:00, 16.40it/s]\n",
      "Validation epoch 82: 100%|██████████| 4/4 [00:00<00:00, 27.72it/s]\n"
     ]
    },
    {
     "name": "stdout",
     "output_type": "stream",
     "text": [
      "Epoch 82\n",
      "train_loss = 0.1150, train_accuracy = 0.97\n",
      "valid_loss = 0.2313, valid_accuracy = 0.96\n"
     ]
    },
    {
     "name": "stderr",
     "output_type": "stream",
     "text": [
      "Train epoch 83: 100%|██████████| 11/11 [00:00<00:00, 16.54it/s]\n",
      "Validation epoch 83: 100%|██████████| 4/4 [00:00<00:00, 27.85it/s]\n"
     ]
    },
    {
     "name": "stdout",
     "output_type": "stream",
     "text": [
      "Epoch 83\n",
      "train_loss = 0.1131, train_accuracy = 0.97\n",
      "valid_loss = 0.2303, valid_accuracy = 0.96\n"
     ]
    },
    {
     "name": "stderr",
     "output_type": "stream",
     "text": [
      "Train epoch 84: 100%|██████████| 11/11 [00:00<00:00, 16.31it/s]\n",
      "Validation epoch 84: 100%|██████████| 4/4 [00:00<00:00, 27.64it/s]\n"
     ]
    },
    {
     "name": "stdout",
     "output_type": "stream",
     "text": [
      "Epoch 84\n",
      "train_loss = 0.1113, train_accuracy = 0.97\n",
      "valid_loss = 0.2298, valid_accuracy = 0.96\n"
     ]
    },
    {
     "name": "stderr",
     "output_type": "stream",
     "text": [
      "Train epoch 85: 100%|██████████| 11/11 [00:00<00:00, 15.78it/s]\n",
      "Validation epoch 85: 100%|██████████| 4/4 [00:00<00:00, 27.44it/s]\n"
     ]
    },
    {
     "name": "stdout",
     "output_type": "stream",
     "text": [
      "Epoch 85\n",
      "train_loss = 0.1089, train_accuracy = 0.98\n",
      "valid_loss = 0.2276, valid_accuracy = 0.96\n"
     ]
    },
    {
     "name": "stderr",
     "output_type": "stream",
     "text": [
      "Train epoch 86: 100%|██████████| 11/11 [00:00<00:00, 16.03it/s]\n",
      "Validation epoch 86: 100%|██████████| 4/4 [00:00<00:00, 27.86it/s]\n"
     ]
    },
    {
     "name": "stdout",
     "output_type": "stream",
     "text": [
      "Epoch 86\n",
      "train_loss = 0.1078, train_accuracy = 0.97\n",
      "valid_loss = 0.2282, valid_accuracy = 0.96\n"
     ]
    },
    {
     "name": "stderr",
     "output_type": "stream",
     "text": [
      "Train epoch 87: 100%|██████████| 11/11 [00:00<00:00, 15.83it/s]\n",
      "Validation epoch 87: 100%|██████████| 4/4 [00:00<00:00, 27.36it/s]\n"
     ]
    },
    {
     "name": "stdout",
     "output_type": "stream",
     "text": [
      "Epoch 87\n",
      "train_loss = 0.1060, train_accuracy = 0.98\n",
      "valid_loss = 0.2281, valid_accuracy = 0.96\n"
     ]
    },
    {
     "name": "stderr",
     "output_type": "stream",
     "text": [
      "Train epoch 88: 100%|██████████| 11/11 [00:00<00:00, 16.05it/s]\n",
      "Validation epoch 88: 100%|██████████| 4/4 [00:00<00:00, 27.52it/s]\n"
     ]
    },
    {
     "name": "stdout",
     "output_type": "stream",
     "text": [
      "Epoch 88\n",
      "train_loss = 0.1043, train_accuracy = 0.98\n",
      "valid_loss = 0.2270, valid_accuracy = 0.96\n"
     ]
    },
    {
     "name": "stderr",
     "output_type": "stream",
     "text": [
      "Train epoch 89: 100%|██████████| 11/11 [00:00<00:00, 16.09it/s]\n",
      "Validation epoch 89: 100%|██████████| 4/4 [00:00<00:00, 27.29it/s]\n"
     ]
    },
    {
     "name": "stdout",
     "output_type": "stream",
     "text": [
      "Epoch 89\n",
      "train_loss = 0.1025, train_accuracy = 0.98\n",
      "valid_loss = 0.2254, valid_accuracy = 0.96\n"
     ]
    },
    {
     "name": "stderr",
     "output_type": "stream",
     "text": [
      "Train epoch 90: 100%|██████████| 11/11 [00:00<00:00, 14.87it/s]\n",
      "Validation epoch 90: 100%|██████████| 4/4 [00:00<00:00, 27.28it/s]\n"
     ]
    },
    {
     "name": "stdout",
     "output_type": "stream",
     "text": [
      "Epoch 90\n",
      "train_loss = 0.1002, train_accuracy = 0.98\n",
      "valid_loss = 0.2249, valid_accuracy = 0.96\n"
     ]
    },
    {
     "name": "stderr",
     "output_type": "stream",
     "text": [
      "Train epoch 91: 100%|██████████| 11/11 [00:00<00:00, 14.19it/s]\n",
      "Validation epoch 91: 100%|██████████| 4/4 [00:00<00:00, 25.47it/s]\n"
     ]
    },
    {
     "name": "stdout",
     "output_type": "stream",
     "text": [
      "Epoch 91\n",
      "train_loss = 0.0992, train_accuracy = 0.98\n",
      "valid_loss = 0.2249, valid_accuracy = 0.96\n"
     ]
    },
    {
     "name": "stderr",
     "output_type": "stream",
     "text": [
      "Train epoch 92: 100%|██████████| 11/11 [00:00<00:00, 16.44it/s]\n",
      "Validation epoch 92: 100%|██████████| 4/4 [00:00<00:00, 27.30it/s]\n"
     ]
    },
    {
     "name": "stdout",
     "output_type": "stream",
     "text": [
      "Epoch 92\n",
      "train_loss = 0.0973, train_accuracy = 0.98\n",
      "valid_loss = 0.2244, valid_accuracy = 0.96\n"
     ]
    },
    {
     "name": "stderr",
     "output_type": "stream",
     "text": [
      "Train epoch 93: 100%|██████████| 11/11 [00:00<00:00, 16.18it/s]\n",
      "Validation epoch 93: 100%|██████████| 4/4 [00:00<00:00, 27.50it/s]\n"
     ]
    },
    {
     "name": "stdout",
     "output_type": "stream",
     "text": [
      "Epoch 93\n",
      "train_loss = 0.0955, train_accuracy = 0.98\n",
      "valid_loss = 0.2246, valid_accuracy = 0.96\n"
     ]
    },
    {
     "name": "stderr",
     "output_type": "stream",
     "text": [
      "Train epoch 94: 100%|██████████| 11/11 [00:00<00:00, 15.89it/s]\n",
      "Validation epoch 94: 100%|██████████| 4/4 [00:00<00:00, 26.85it/s]\n"
     ]
    },
    {
     "name": "stdout",
     "output_type": "stream",
     "text": [
      "Epoch 94\n",
      "train_loss = 0.0939, train_accuracy = 0.98\n",
      "valid_loss = 0.2224, valid_accuracy = 0.96\n"
     ]
    },
    {
     "name": "stderr",
     "output_type": "stream",
     "text": [
      "Train epoch 95: 100%|██████████| 11/11 [00:00<00:00, 15.88it/s]\n",
      "Validation epoch 95: 100%|██████████| 4/4 [00:00<00:00, 26.97it/s]\n"
     ]
    },
    {
     "name": "stdout",
     "output_type": "stream",
     "text": [
      "Epoch 95\n",
      "train_loss = 0.0939, train_accuracy = 0.98\n",
      "valid_loss = 0.2241, valid_accuracy = 0.96\n"
     ]
    },
    {
     "name": "stderr",
     "output_type": "stream",
     "text": [
      "Train epoch 96: 100%|██████████| 11/11 [00:00<00:00, 15.00it/s]\n",
      "Validation epoch 96: 100%|██████████| 4/4 [00:00<00:00, 26.80it/s]\n"
     ]
    },
    {
     "name": "stdout",
     "output_type": "stream",
     "text": [
      "Epoch 96\n",
      "train_loss = 0.0913, train_accuracy = 0.98\n",
      "valid_loss = 0.2246, valid_accuracy = 0.96\n"
     ]
    },
    {
     "name": "stderr",
     "output_type": "stream",
     "text": [
      "Train epoch 97: 100%|██████████| 11/11 [00:00<00:00, 15.34it/s]\n",
      "Validation epoch 97: 100%|██████████| 4/4 [00:00<00:00, 27.28it/s]\n"
     ]
    },
    {
     "name": "stdout",
     "output_type": "stream",
     "text": [
      "Epoch 97\n",
      "train_loss = 0.0901, train_accuracy = 0.98\n",
      "valid_loss = 0.2219, valid_accuracy = 0.96\n"
     ]
    },
    {
     "name": "stderr",
     "output_type": "stream",
     "text": [
      "Train epoch 98: 100%|██████████| 11/11 [00:00<00:00, 16.24it/s]\n",
      "Validation epoch 98: 100%|██████████| 4/4 [00:00<00:00, 27.14it/s]\n"
     ]
    },
    {
     "name": "stdout",
     "output_type": "stream",
     "text": [
      "Epoch 98\n",
      "train_loss = 0.0883, train_accuracy = 0.98\n",
      "valid_loss = 0.2218, valid_accuracy = 0.96\n"
     ]
    },
    {
     "name": "stderr",
     "output_type": "stream",
     "text": [
      "Train epoch 99: 100%|██████████| 11/11 [00:00<00:00, 15.30it/s]\n",
      "Validation epoch 99: 100%|██████████| 4/4 [00:00<00:00, 25.48it/s]\n"
     ]
    },
    {
     "name": "stdout",
     "output_type": "stream",
     "text": [
      "Epoch 99\n",
      "train_loss = 0.0878, train_accuracy = 0.98\n",
      "valid_loss = 0.2240, valid_accuracy = 0.96\n"
     ]
    },
    {
     "name": "stderr",
     "output_type": "stream",
     "text": [
      "Train epoch 100: 100%|██████████| 11/11 [00:00<00:00, 16.41it/s]\n",
      "Validation epoch 100: 100%|██████████| 4/4 [00:00<00:00, 27.54it/s]"
     ]
    },
    {
     "name": "stdout",
     "output_type": "stream",
     "text": [
      "Epoch 100\n",
      "train_loss = 0.0864, train_accuracy = 0.98\n",
      "valid_loss = 0.2223, valid_accuracy = 0.96\n"
     ]
    },
    {
     "name": "stderr",
     "output_type": "stream",
     "text": [
      "\n"
     ]
    }
   ],
   "source": [
    "epochs = 100\n",
    "model = MnistClassifier()\n",
    "criterion = nn.CrossEntropyLoss()\n",
    "optimizer = optim.Adam(model.parameters(), lr=1e-4)\n",
    "\n",
    "metrics = []\n",
    "for epoch in range(1, epochs + 1):\n",
    "    # Training step\n",
    "    model.train()\n",
    "    train_loss = 0\n",
    "    correct, total = 0, 0\n",
    "    for images, labels in tqdm.tqdm(train_dl, desc=f\"Train epoch {epoch}: \"):\n",
    "        # Forward pass\n",
    "        preds = model(images)\n",
    "        loss = criterion(preds, labels)\n",
    "        \n",
    "        # Backward pass\n",
    "        optimizer.zero_grad()\n",
    "        loss.backward()\n",
    "        optimizer.step()\n",
    "        \n",
    "        # Metrics logging\n",
    "        train_loss += loss.item()\n",
    "        total += labels.shape[0]\n",
    "        _, predicted = torch.max(preds, dim=1)\n",
    "        correct += (predicted == labels).sum(dim=0)\n",
    "    \n",
    "    train_loss /= len(train_dl)\n",
    "    train_accuracy = correct / total\n",
    "    \n",
    "    # Validation step\n",
    "    model.eval()\n",
    "    valid_loss = 0.0\n",
    "    correct, total = 0, 0\n",
    "\n",
    "    with torch.no_grad():\n",
    "        for images, labels in tqdm.tqdm(valid_dl, desc=f\"Validation epoch {epoch}: \"):\n",
    "            images, labels = images, labels\n",
    "\n",
    "            outputs = model(images)\n",
    "            loss = criterion(outputs, labels)\n",
    "\n",
    "            valid_loss += loss.item()\n",
    "            _, predicted = torch.max(outputs, 1)\n",
    "            total += labels.size(0)\n",
    "            correct += (predicted == labels).sum().item()\n",
    "\n",
    "    valid_loss /= len(valid_dl)\n",
    "    valid_accuracy = correct / total\n",
    "    \n",
    "    # Log the metrics\n",
    "    print(f\"Epoch {epoch}\\n{train_loss = :.4f}, {train_accuracy = :.2f}\\n{valid_loss = :.4f}, {valid_accuracy = :.2f}\")\n",
    "    metrics.append({\n",
    "        \"train_loss\": train_loss,\n",
    "        \"train_accuracy\": train_accuracy,\n",
    "        \"valid_loss\": valid_loss,\n",
    "        \"valid_accuracy\": valid_accuracy,\n",
    "    })"
   ],
   "metadata": {
    "collapsed": false,
    "ExecuteTime": {
     "end_time": "2025-01-20T21:21:03.624478Z",
     "start_time": "2025-01-20T21:19:39.200457Z"
    }
   },
   "id": "8ef2e0e6ac890c44"
  },
  {
   "cell_type": "markdown",
   "source": [
    "## Save the model"
   ],
   "metadata": {
    "collapsed": false
   },
   "id": "4235003346ad72c7"
  },
  {
   "cell_type": "code",
   "execution_count": 9,
   "outputs": [],
   "source": [
    "torch.save(model.state_dict(), 'models/mnist_classifier.pth')"
   ],
   "metadata": {
    "collapsed": false,
    "ExecuteTime": {
     "end_time": "2025-01-20T21:21:03.637915Z",
     "start_time": "2025-01-20T21:21:03.623322Z"
    }
   },
   "id": "d0e41470b1b6b15b"
  },
  {
   "cell_type": "markdown",
   "source": [
    "## Visualizations\n",
    "### Model weights"
   ],
   "metadata": {
    "collapsed": false
   },
   "id": "ea004455e63e5f85"
  },
  {
   "cell_type": "code",
   "execution_count": 10,
   "outputs": [
    {
     "data": {
      "text/plain": "<Figure size 1500x500 with 8 Axes>",
      "image/png": "[encoded data removed]"
     },
     "metadata": {},
     "output_type": "display_data"
    }
   ],
   "source": [
    "conv_weights = model.conv.weight.detach().numpy() \n",
    "\n",
    "plt.figure(figsize=(15, 5))\n",
    "plt.suptitle(\"Learned Filters from Conv layer\", fontsize=16)\n",
    "plt.tight_layout()\n",
    "\n",
    "for i in range(8):\n",
    "    plt.subplot(2, 4, i + 1)\n",
    "    filter_ = conv_weights[i, 0]\n",
    "    plt.imshow(filter_, cmap='viridis')\n",
    "    plt.axis('off')\n",
    "    plt.title(f\"Filter {i + 1}\")\n",
    "\n",
    "plt.show()"
   ],
   "metadata": {
    "collapsed": false,
    "ExecuteTime": {
     "end_time": "2025-01-20T21:21:03.747446Z",
     "start_time": "2025-01-20T21:21:03.638541Z"
    }
   },
   "id": "8710df115be0ae31"
  },
  {
   "cell_type": "markdown",
   "source": [
    "### Loss and accuracy across epochs"
   ],
   "metadata": {
    "collapsed": false
   },
   "id": "acd73bc7d0dedcde"
  },
  {
   "cell_type": "code",
   "execution_count": 11,
   "outputs": [
    {
     "data": {
      "text/plain": "<Figure size 1000x500 with 2 Axes>",
      "image/png": "[encoded data removed]"
     },
     "metadata": {},
     "output_type": "display_data"
    }
   ],
   "source": [
    "plt.figure(figsize=(10, 5))\n",
    "\n",
    "plt.subplot(1, 2, 1)\n",
    "plt.plot(range(epochs), [m[\"train_loss\"] for m in metrics], label=\"Train Loss\", marker='o')\n",
    "plt.plot(range(epochs), [m[\"valid_loss\"] for m in metrics], label=\"Validation Loss\", marker='o')\n",
    "plt.title(\"Loss Over Epochs\")\n",
    "plt.xlabel(\"Epochs\")\n",
    "plt.ylabel(\"Loss\")\n",
    "plt.grid()\n",
    "plt.legend()\n",
    "\n",
    "plt.subplot(1, 2, 2)\n",
    "plt.plot(range(epochs), [m[\"train_accuracy\"] for m in metrics], label=\"Train Accuracy\", marker='o')\n",
    "plt.plot(range(epochs), [m[\"valid_accuracy\"] for m in metrics], label=\"Validation Accuracy\", marker='o')\n",
    "plt.title(\"Accuracy Over Epochs\")\n",
    "plt.xlabel(\"Epochs\")\n",
    "plt.ylabel(\"Accuracy\")\n",
    "plt.grid()\n",
    "plt.legend()\n",
    "\n",
    "plt.tight_layout()\n",
    "plt.show()"
   ],
   "metadata": {
    "collapsed": false,
    "ExecuteTime": {
     "end_time": "2025-01-20T21:21:03.854260Z",
     "start_time": "2025-01-20T21:21:03.746966Z"
    }
   },
   "id": "fabf47b236ffe7c2"
  },
  {
   "cell_type": "markdown",
   "source": [
    "### More metrics"
   ],
   "metadata": {
    "collapsed": false
   },
   "id": "2f96821a91ce9c62"
  },
  {
   "cell_type": "code",
   "execution_count": 12,
   "outputs": [
    {
     "name": "stdout",
     "output_type": "stream",
     "text": [
      "Accuracy: 0.9600\n",
      "Precision: 0.9601\n",
      "Recall: 0.9600\n",
      "F1 Score: 0.9600\n"
     ]
    },
    {
     "data": {
      "text/plain": "<Figure size 640x480 with 2 Axes>",
      "image/png": "[encoded data removed]"
     },
     "metadata": {},
     "output_type": "display_data"
    }
   ],
   "source": [
    "from sklearn.metrics import (\n",
    "    precision_score, recall_score, f1_score, accuracy_score, confusion_matrix, ConfusionMatrixDisplay\n",
    ")\n",
    "\n",
    "model.eval()\n",
    "\n",
    "all_labels = []\n",
    "all_preds = []\n",
    "\n",
    "with torch.no_grad():\n",
    "    for images, labels in valid_dl:\n",
    "        outputs = model(images)\n",
    "        _, predictions = torch.max(outputs, dim=1)\n",
    "        all_labels.extend(labels.numpy())\n",
    "        all_preds.extend(predictions.numpy())\n",
    "\n",
    "# Calculate metrics\n",
    "accuracy = accuracy_score(all_labels, all_preds)\n",
    "precision = precision_score(all_labels, all_preds, average='weighted')\n",
    "recall = recall_score(all_labels, all_preds, average='weighted')\n",
    "f1 = f1_score(all_labels, all_preds, average='weighted')\n",
    "\n",
    "print(f\"Accuracy: {accuracy:.4f}\")\n",
    "print(f\"Precision: {precision:.4f}\")\n",
    "print(f\"Recall: {recall:.4f}\")\n",
    "print(f\"F1 Score: {f1:.4f}\")\n",
    "\n",
    "# Compute confusion matrix\n",
    "cm = confusion_matrix(all_labels, all_preds)\n",
    "disp = ConfusionMatrixDisplay(confusion_matrix=cm, display_labels=range(10))\n",
    "\n",
    "# Plot confusion matrix\n",
    "disp.plot(cmap=plt.cm.Blues, xticks_rotation=45)\n",
    "plt.title(\"Confusion Matrix\")\n",
    "plt.show()"
   ],
   "metadata": {
    "collapsed": false,
    "ExecuteTime": {
     "end_time": "2025-01-20T21:21:04.610221Z",
     "start_time": "2025-01-20T21:21:03.852139Z"
    }
   },
   "id": "660c355d423e4393"
  }
 ],
 "metadata": {
  "kernelspec": {
   "display_name": "Python 3",
   "language": "python",
   "name": "python3"
  },
  "language_info": {
   "codemirror_mode": {
    "name": "ipython",
    "version": 2
   },
   "file_extension": ".py",
   "mimetype": "text/x-python",
   "name": "python",
   "nbconvert_exporter": "python",
   "pygments_lexer": "ipython2",
   "version": "2.7.6"
  }
 },
 "nbformat": 4,
 "nbformat_minor": 5
}
